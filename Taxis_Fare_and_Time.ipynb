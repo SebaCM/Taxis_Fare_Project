{
 "cells": [
  {
   "cell_type": "code",
   "execution_count": 1,
   "metadata": {},
   "outputs": [
    {
     "name": "stderr",
     "output_type": "stream",
     "text": [
      "C:\\Users\\Anthony Zambrano\\AppData\\Local\\Temp\\ipykernel_8288\\1073430283.py:3: DtypeWarning: Columns (3,5,12,17,18) have mixed types. Specify dtype option on import or set low_memory=False.\n",
      "  df = pd.read_csv(\"C:/Users/Anthony Zambrano/Downloads/yellow_tripdata_2022-05 (1).csv\")\n"
     ]
    },
    {
     "name": "stdout",
     "output_type": "stream",
     "text": [
      "   VendorID        tpep_pickup_datetime       tpep_dropoff_datetime  \\\n",
      "0         1  2022-05-01 00:00:36.000000  2022-05-01 00:19:18.000000   \n",
      "1         1  2022-05-01 00:27:44.000000  2022-05-01 00:41:33.000000   \n",
      "2         1  2022-05-01 00:59:00.000000  2022-05-01 01:14:22.000000   \n",
      "3         1  2022-05-01 00:48:18.000000  2022-05-01 01:28:02.000000   \n",
      "4         1  2022-05-01 00:28:26.000000  2022-05-01 00:37:49.000000   \n",
      "\n",
      "  passenger_count  trip_distance RatecodeID store_and_fwd_flag  PULocationID  \\\n",
      "0               1            4.1          1                  N           246   \n",
      "1               1            2.3          1                  N           238   \n",
      "2               1            4.2          1                  N           163   \n",
      "3               1            0.0          1                  N            79   \n",
      "4               1            1.6          1                  N           238   \n",
      "\n",
      "   DOLocationID  payment_type  fare_amount  extra mta_tax  tip_amount  \\\n",
      "0           151             2         17.0    3.0     0.5        0.00   \n",
      "1            74             2         11.0    3.0     0.5        0.00   \n",
      "2           260             2         15.5    3.0     0.5        0.00   \n",
      "3           182             1         41.2    0.0     0.5        0.00   \n",
      "4            75             1          7.5    3.0     0.5        2.25   \n",
      "\n",
      "   tolls_amount  improvement_surcharge  total_amount congestion_surcharge  \\\n",
      "0           0.0                    0.3         20.80                  2.5   \n",
      "1           0.0                    0.3         14.80                  2.5   \n",
      "2           0.0                    0.3         19.30                  2.5   \n",
      "3           0.0                    0.3         42.00                  0.0   \n",
      "4           0.0                    0.3         13.55                  2.5   \n",
      "\n",
      "  airport_fee  \n",
      "0         0.0  \n",
      "1         0.0  \n",
      "2         0.0  \n",
      "3         0.0  \n",
      "4         0.0  \n"
     ]
    }
   ],
   "source": [
    "import pandas as pd\n",
    "\n",
    "df = pd.read_csv(\"C:/Users/Anthony Zambrano/Downloads/yellow_tripdata_2022-05 (1).csv\")\n",
    "\n",
    "print(df.head())\n",
    "\n"
   ]
  },
  {
   "cell_type": "code",
   "execution_count": 2,
   "metadata": {},
   "outputs": [
    {
     "name": "stdout",
     "output_type": "stream",
     "text": [
      "VendorID: Taxi Vendor ID\n",
      "0    1\n",
      "1    1\n",
      "2    1\n",
      "3    1\n",
      "4    1\n",
      "Name: VendorID, dtype: int64\n"
     ]
    }
   ],
   "source": [
    "# Show details for each column with a brief description in the comments\n",
    "# VendorID: The ID of the taxi vendor\n",
    "print(\"VendorID: Taxi Vendor ID\")\n",
    "print(df['VendorID'].head())\n"
   ]
  },
  {
   "cell_type": "code",
   "execution_count": 3,
   "metadata": {},
   "outputs": [
    {
     "name": "stdout",
     "output_type": "stream",
     "text": [
      "\n",
      "tpep_pickup_datetime: Pickup timestamp\n",
      "0    2022-05-01 00:00:36.000000\n",
      "1    2022-05-01 00:27:44.000000\n",
      "2    2022-05-01 00:59:00.000000\n",
      "3    2022-05-01 00:48:18.000000\n",
      "4    2022-05-01 00:28:26.000000\n",
      "Name: tpep_pickup_datetime, dtype: object\n"
     ]
    }
   ],
   "source": [
    "# tpep_pickup_datetime: The timestamp of when the ride started\n",
    "print(\"\\ntpep_pickup_datetime: Pickup timestamp\")\n",
    "print(df['tpep_pickup_datetime'].head())"
   ]
  },
  {
   "cell_type": "code",
   "execution_count": 4,
   "metadata": {},
   "outputs": [
    {
     "name": "stdout",
     "output_type": "stream",
     "text": [
      "\n",
      "tpep_dropoff_datetime: Dropoff timestamp\n",
      "0    2022-05-01 00:19:18.000000\n",
      "1    2022-05-01 00:41:33.000000\n",
      "2    2022-05-01 01:14:22.000000\n",
      "3    2022-05-01 01:28:02.000000\n",
      "4    2022-05-01 00:37:49.000000\n",
      "Name: tpep_dropoff_datetime, dtype: object\n"
     ]
    }
   ],
   "source": [
    "# tpep_dropoff_datetime: The timestamp of when the ride ended\n",
    "print(\"\\ntpep_dropoff_datetime: Dropoff timestamp\")\n",
    "print(df['tpep_dropoff_datetime'].head())"
   ]
  },
  {
   "cell_type": "code",
   "execution_count": 5,
   "metadata": {},
   "outputs": [
    {
     "name": "stdout",
     "output_type": "stream",
     "text": [
      "\n",
      "passenger_count: Number of passengers\n",
      "0    1\n",
      "1    1\n",
      "2    1\n",
      "3    1\n",
      "4    1\n",
      "Name: passenger_count, dtype: object\n"
     ]
    }
   ],
   "source": [
    "# passenger_count: Number of passengers in the ride\n",
    "print(\"\\npassenger_count: Number of passengers\")\n",
    "print(df['passenger_count'].head())"
   ]
  },
  {
   "cell_type": "code",
   "execution_count": 6,
   "metadata": {},
   "outputs": [
    {
     "name": "stdout",
     "output_type": "stream",
     "text": [
      "\n",
      "RatecodeID: Fare pricing model\n",
      "0    1\n",
      "1    1\n",
      "2    1\n",
      "3    1\n",
      "4    1\n",
      "Name: RatecodeID, dtype: object\n"
     ]
    }
   ],
   "source": [
    "# RatecodeID: The rate code that indicates the pricing model (e.g., standard fare, fixed fare)\n",
    "print(\"\\nRatecodeID: Fare pricing model\")\n",
    "print(df['RatecodeID'].head())"
   ]
  },
  {
   "cell_type": "code",
   "execution_count": 7,
   "metadata": {},
   "outputs": [
    {
     "name": "stdout",
     "output_type": "stream",
     "text": [
      "\n",
      "PULocationID: Pickup location zone ID\n",
      "0    246\n",
      "1    238\n",
      "2    163\n",
      "3     79\n",
      "4    238\n",
      "Name: PULocationID, dtype: int64\n"
     ]
    }
   ],
   "source": [
    "# PULocationID: The pickup location ID (which zone the passenger was picked up from)\n",
    "print(\"\\nPULocationID: Pickup location zone ID\")\n",
    "print(df['PULocationID'].head())"
   ]
  },
  {
   "cell_type": "code",
   "execution_count": 8,
   "metadata": {},
   "outputs": [
    {
     "name": "stdout",
     "output_type": "stream",
     "text": [
      "\n",
      "DOLocationID: Dropoff location zone ID\n",
      "0    151\n",
      "1     74\n",
      "2    260\n",
      "3    182\n",
      "4     75\n",
      "Name: DOLocationID, dtype: int64\n"
     ]
    }
   ],
   "source": [
    "# DOLocationID: The dropoff location ID (which zone the passenger was dropped off in)\n",
    "print(\"\\nDOLocationID: Dropoff location zone ID\")\n",
    "print(df['DOLocationID'].head())"
   ]
  },
  {
   "cell_type": "code",
   "execution_count": 9,
   "metadata": {},
   "outputs": [
    {
     "name": "stdout",
     "output_type": "stream",
     "text": [
      "\n",
      "payment_type: Method of payment used\n",
      "0    2\n",
      "1    2\n",
      "2    2\n",
      "3    1\n",
      "4    1\n",
      "Name: payment_type, dtype: int64\n"
     ]
    }
   ],
   "source": [
    "# payment_type: The method of payment used by the passenger (e.g., cash, credit card)\n",
    "print(\"\\npayment_type: Method of payment used\")\n",
    "print(df['payment_type'].head())"
   ]
  },
  {
   "cell_type": "code",
   "execution_count": 10,
   "metadata": {},
   "outputs": [
    {
     "name": "stdout",
     "output_type": "stream",
     "text": [
      "\n",
      "fare_amount: Base fare for the ride\n",
      "0    17.0\n",
      "1    11.0\n",
      "2    15.5\n",
      "3    41.2\n",
      "4     7.5\n",
      "Name: fare_amount, dtype: float64\n"
     ]
    }
   ],
   "source": [
    "# fare_amount: The base fare of the ride (before any additional charges)\n",
    "print(\"\\nfare_amount: Base fare for the ride\")\n",
    "print(df['fare_amount'].head())\n"
   ]
  },
  {
   "cell_type": "code",
   "execution_count": 11,
   "metadata": {},
   "outputs": [
    {
     "name": "stdout",
     "output_type": "stream",
     "text": [
      "\n",
      "extra: Additional charges (e.g., time-based, etc.)\n",
      "0    3.0\n",
      "1    3.0\n",
      "2    3.0\n",
      "3    0.0\n",
      "4    3.0\n",
      "Name: extra, dtype: float64\n"
     ]
    }
   ],
   "source": [
    "# extra: Additional charges applied to the fare\n",
    "print(\"\\nextra: Additional charges (e.g., time-based, etc.)\")\n",
    "print(df['extra'].head())"
   ]
  },
  {
   "cell_type": "code",
   "execution_count": 12,
   "metadata": {},
   "outputs": [
    {
     "name": "stdout",
     "output_type": "stream",
     "text": [
      "\n",
      "mta_tax: MTA tax applied\n",
      "0    0.5\n",
      "1    0.5\n",
      "2    0.5\n",
      "3    0.5\n",
      "4    0.5\n",
      "Name: mta_tax, dtype: object\n"
     ]
    }
   ],
   "source": [
    "# mta_tax: The MTA (Metropolitan Transportation Authority) tax applied to the ride\n",
    "print(\"\\nmta_tax: MTA tax applied\")\n",
    "print(df['mta_tax'].head())"
   ]
  },
  {
   "cell_type": "code",
   "execution_count": 13,
   "metadata": {},
   "outputs": [
    {
     "name": "stdout",
     "output_type": "stream",
     "text": [
      "\n",
      "tolls_amount: Tolls charged during the ride\n",
      "0    0.0\n",
      "1    0.0\n",
      "2    0.0\n",
      "3    0.0\n",
      "4    0.0\n",
      "Name: tolls_amount, dtype: float64\n"
     ]
    }
   ],
   "source": [
    "# tolls_amount: The amount charged for any tolls during the ride\n",
    "print(\"\\ntolls_amount: Tolls charged during the ride\")\n",
    "print(df['tolls_amount'].head())"
   ]
  },
  {
   "cell_type": "code",
   "execution_count": 14,
   "metadata": {},
   "outputs": [
    {
     "name": "stdout",
     "output_type": "stream",
     "text": [
      "\n",
      "improvement_surcharge: Improvement surcharge applied\n",
      "0    0.3\n",
      "1    0.3\n",
      "2    0.3\n",
      "3    0.3\n",
      "4    0.3\n",
      "Name: improvement_surcharge, dtype: float64\n"
     ]
    }
   ],
   "source": [
    "# improvement_surcharge: A surcharge added to the fare for improvements\n",
    "print(\"\\nimprovement_surcharge: Improvement surcharge applied\")\n",
    "print(df['improvement_surcharge'].head())\n"
   ]
  },
  {
   "cell_type": "code",
   "execution_count": 15,
   "metadata": {},
   "outputs": [
    {
     "name": "stdout",
     "output_type": "stream",
     "text": [
      "\n",
      "total_amount: Total fare charged for the ride\n",
      "0    20.80\n",
      "1    14.80\n",
      "2    19.30\n",
      "3    42.00\n",
      "4    13.55\n",
      "Name: total_amount, dtype: float64\n"
     ]
    }
   ],
   "source": [
    "# total_amount: The total amount charged for the ride (base fare + extras + tips, etc.)\n",
    "print(\"\\ntotal_amount: Total fare charged for the ride\")\n",
    "print(df['total_amount'].head())\n"
   ]
  },
  {
   "cell_type": "code",
   "execution_count": 16,
   "metadata": {},
   "outputs": [
    {
     "name": "stdout",
     "output_type": "stream",
     "text": [
      "\n",
      "congestion_surcharge: Congestion surcharge applied\n",
      "0    2.5\n",
      "1    2.5\n",
      "2    2.5\n",
      "3    0.0\n",
      "4    2.5\n",
      "Name: congestion_surcharge, dtype: object\n"
     ]
    }
   ],
   "source": [
    "# congestion_surcharge: Additional charge for congestion or traffic-based areas\n",
    "print(\"\\ncongestion_surcharge: Congestion surcharge applied\")\n",
    "print(df['congestion_surcharge'].head())"
   ]
  },
  {
   "cell_type": "code",
   "execution_count": 17,
   "metadata": {},
   "outputs": [
    {
     "name": "stdout",
     "output_type": "stream",
     "text": [
      "\n",
      "airport_fee: Additional airport fee\n",
      "0    0.0\n",
      "1    0.0\n",
      "2    0.0\n",
      "3    0.0\n",
      "4    0.0\n",
      "Name: airport_fee, dtype: object\n"
     ]
    }
   ],
   "source": [
    "# airport_fee: Additional fee for rides to/from the airport\n",
    "print(\"\\nairport_fee: Additional airport fee\")\n",
    "print(df['airport_fee'].head())"
   ]
  },
  {
   "cell_type": "code",
   "execution_count": null,
   "metadata": {},
   "outputs": [],
   "source": [
    "# VendorID: ID del proveedor del taxi (Taxi Vendor ID: Identificador del proveedor de taxi, que es siempre 1 en los primeros registros.)\n",
    "# Valores: 1\n",
    "\n",
    "# tpep_pickup_datetime: Fecha y hora de recogida (Pickup timestamp: Fecha y hora en la que se recogió al pasajero en cada viaje.)\n",
    "# Valores:\n",
    "# 2022-05-01 00:00:36\n",
    "# 2022-05-01 00:27:44\n",
    "# 2022-05-01 00:59:00\n",
    "\n",
    "# tpep_dropoff_datetime: Fecha y hora de entrega (Dropoff timestamp: Fecha y hora en la que se entregó al pasajero en cada viaje.)\n",
    "# Valores:\n",
    "# 2022-05-01 00:19:18\n",
    "# 2022-05-01 00:41:33\n",
    "# 2022-05-01 01:14:22\n",
    "\n",
    "# passenger_count: Número de pasajeros (Number of passengers: Cantidad de pasajeros en cada viaje, siempre es 1 en los primeros registros.)\n",
    "# Valores:\n",
    "# 1\n",
    "\n",
    "# RatecodeID: Tipo de tarifa aplicada (Fare pricing model: Código de tarifa para el tipo de cobro aplicado al viaje, el valor es 1.)\n",
    "# Valores:\n",
    "# 1\n",
    "\n",
    "# PULocationID: ID de la zona de recogida (Pickup location zone ID: Código de zona donde se realizó la recogida del pasajero.)\n",
    "# Valores:\n",
    "# 246\n",
    "# 238\n",
    "# 163\n",
    "\n",
    "# DOLocationID: ID de la zona de entrega (Dropoff location zone ID: Código de zona donde se entregó al pasajero.)\n",
    "# Valores:\n",
    "# 151\n",
    "# 74\n",
    "# 260\n",
    "\n",
    "# payment_type: Método de pago utilizado (Method of payment used: Código que representa el método de pago, 1 para efectivo y 2 para tarjeta.)\n",
    "# Valores:\n",
    "# 2\n",
    "# 1\n",
    "\n",
    "# fare_amount: Monto base de la tarifa (Base fare for the ride: Precio base de la tarifa antes de cargos adicionales.)\n",
    "# Valores:\n",
    "# 17.0\n",
    "# 11.0\n",
    "# 15.5\n",
    "\n",
    "# extra: Cargos adicionales (ej., basados en tiempo) (Additional charges: Cargos adicionales aplicados por concepto de tiempo o situaciones similares.)\n",
    "# Valores:\n",
    "# 3.0\n",
    "# 0.0\n",
    "\n",
    "# mta_tax: Impuesto MTA aplicado (MTA tax applied: Impuesto aplicado por la MTA (Autoridad Metropolitana de Transporte).)\n",
    "# Valores:\n",
    "# 0.5\n",
    "\n",
    "# tolls_amount: Cargos por peaje (Tolls charged: Monto cobrado por peajes durante el viaje.)\n",
    "# Valores:\n",
    "# 0.0\n",
    "\n",
    "# improvement_surcharge: Cargos por mejora (Improvement surcharge: Cargo adicional por mejoras en el servicio.)\n",
    "# Valores:\n",
    "# 0.3\n",
    "\n",
    "# total_amount: Monto total cobrado por el viaje (Total fare charged for the ride: El monto total que se cobra por el viaje, incluyendo la tarifa base y cargos adicionales.)\n",
    "# Valores:\n",
    "# 20.80\n",
    "# 14.80\n",
    "# 19.30\n",
    "\n",
    "# congestion_surcharge: Cargo por congestión aplicado (Congestion surcharge: Cargo adicional aplicado por congestión o tráfico.)\n",
    "# Valores:\n",
    "# 2.5\n",
    "# 0.0\n",
    "\n",
    "# airport_fee: Cargo adicional por aeropuerto (Airport fee: Cargo adicional cuando el viaje tiene origen o destino en el aeropuerto.)\n",
    "# Valores:\n",
    "# 0.0\n",
    "\n",
    "# Resumen en español:\n",
    "# Este conjunto de datos proviene de un sistema de taxis en Nueva York, donde cada registro describe un viaje. Se incluye información clave como el proveedor del taxi, la fecha y hora de recogida y entrega, el número de pasajeros, la tarifa base, los cargos adicionales, el tipo de pago y las zonas de recogida y entrega. Los datos también incluyen impuestos y cargos específicos, como el impuesto MTA y el cargo por congestión. Además, hay cargos aplicados por el uso de peajes o el aeropuerto.\n",
    "\n",
    "# Summary in English:\n",
    "# This dataset comes from a New York taxi system, where each entry describes a trip. It includes key information such as the taxi vendor, pickup and dropoff timestamps, passenger count, base fare, additional charges, payment method, and pickup/dropoff zones. The data also includes specific taxes and fees, such as the MTA tax and congestion surcharge. Additionally, there are charges for tolls or airport usage.\n"
   ]
  },
  {
   "cell_type": "code",
   "execution_count": 4,
   "metadata": {},
   "outputs": [
    {
     "name": "stdout",
     "output_type": "stream",
     "text": [
      "   LocationID        Borough                     Zone service_zone\n",
      "0           1            EWR           Newark Airport          EWR\n",
      "1           2         Queens              Jamaica Bay    Boro Zone\n",
      "2           3          Bronx  Allerton/Pelham Gardens    Boro Zone\n",
      "3           4      Manhattan            Alphabet City  Yellow Zone\n",
      "4           5  Staten Island            Arden Heights    Boro Zone\n",
      "Index(['LocationID', 'Borough', 'Zone', 'service_zone'], dtype='object')\n",
      "       LocationID\n",
      "count  265.000000\n",
      "mean   133.000000\n",
      "std     76.643112\n",
      "min      1.000000\n",
      "25%     67.000000\n",
      "50%    133.000000\n",
      "75%    199.000000\n",
      "max    265.000000\n"
     ]
    }
   ],
   "source": [
    "import pandas as pd\n",
    "\n",
    "#Taxi_Zone\n",
    "\n",
    "# Load the CSV file\n",
    "file_path = 'C:\\\\Users\\\\Anthony Zambrano\\\\Downloads\\\\taxi_zone_lookup.csv'  # Replace with the path to your file\n",
    "df = pd.read_csv(file_path)\n",
    "\n",
    "# Display the first rows of the file\n",
    "print(df.head())  # You can change the number to view more rows, for example df.head(10) to view 10 rows\n",
    "\n",
    "# If you want to see all the columns\n",
    "print(df.columns)\n",
    "\n",
    "# To see descriptive statistics of the dataset\n",
    "print(df.describe())"
   ]
  },
  {
   "cell_type": "code",
   "execution_count": 5,
   "metadata": {},
   "outputs": [
    {
     "name": "stdout",
     "output_type": "stream",
     "text": [
      "LocationID      0\n",
      "Borough         1\n",
      "Zone            1\n",
      "service_zone    2\n",
      "dtype: int64\n"
     ]
    }
   ],
   "source": [
    "# Check for missing values in the dataset\n",
    "print(df.isnull().sum())\n"
   ]
  },
  {
   "cell_type": "code",
   "execution_count": 6,
   "metadata": {},
   "outputs": [
    {
     "name": "stdout",
     "output_type": "stream",
     "text": [
      "count    265.000000\n",
      "mean     133.000000\n",
      "std       76.643112\n",
      "min        1.000000\n",
      "25%       67.000000\n",
      "50%      133.000000\n",
      "75%      199.000000\n",
      "max      265.000000\n",
      "Name: LocationID, dtype: float64\n"
     ]
    }
   ],
   "source": [
    "# Get summary statistics for LocationID\n",
    "print(df['LocationID'].describe())\n"
   ]
  },
  {
   "cell_type": "code",
   "execution_count": 7,
   "metadata": {},
   "outputs": [
    {
     "name": "stdout",
     "output_type": "stream",
     "text": [
      "Borough\n",
      "Queens           69\n",
      "Manhattan        69\n",
      "Brooklyn         61\n",
      "Bronx            43\n",
      "Staten Island    20\n",
      "EWR               1\n",
      "Unknown           1\n",
      "Name: count, dtype: int64\n"
     ]
    }
   ],
   "source": [
    "# Count the frequency of each Borough\n",
    "print(df['Borough'].value_counts())\n"
   ]
  },
  {
   "cell_type": "code",
   "execution_count": 8,
   "metadata": {},
   "outputs": [
    {
     "name": "stdout",
     "output_type": "stream",
     "text": [
      "     LocationID        Borough                       Zone service_zone\n",
      "1             2         Queens                Jamaica Bay    Boro Zone\n",
      "2             3          Bronx    Allerton/Pelham Gardens    Boro Zone\n",
      "4             5  Staten Island              Arden Heights    Boro Zone\n",
      "5             6  Staten Island    Arrochar/Fort Wadsworth    Boro Zone\n",
      "6             7         Queens                    Astoria    Boro Zone\n",
      "..          ...            ...                        ...          ...\n",
      "255         256       Brooklyn  Williamsburg (South Side)    Boro Zone\n",
      "256         257       Brooklyn            Windsor Terrace    Boro Zone\n",
      "257         258         Queens                  Woodhaven    Boro Zone\n",
      "258         259          Bronx         Woodlawn/Wakefield    Boro Zone\n",
      "259         260         Queens                   Woodside    Boro Zone\n",
      "\n",
      "[205 rows x 4 columns]\n"
     ]
    }
   ],
   "source": [
    "# Filter rows where service_zone is 'Boro Zone'\n",
    "filtered_df = df[df['service_zone'] == 'Boro Zone']\n",
    "print(filtered_df)\n"
   ]
  },
  {
   "cell_type": "code",
   "execution_count": 9,
   "metadata": {},
   "outputs": [
    {
     "name": "stdout",
     "output_type": "stream",
     "text": [
      "         Borough service_zone  count\n",
      "0          Bronx    Boro Zone     43\n",
      "1       Brooklyn    Boro Zone     61\n",
      "2            EWR          EWR      1\n",
      "3      Manhattan    Boro Zone     14\n",
      "4      Manhattan  Yellow Zone     55\n",
      "5         Queens     Airports      2\n",
      "6         Queens    Boro Zone     67\n",
      "7  Staten Island    Boro Zone     20\n"
     ]
    }
   ],
   "source": [
    "# Group by 'Borough' and 'service_zone' and count the number of entries in each group\n",
    "grouped_df = df.groupby(['Borough', 'service_zone']).size().reset_index(name='count')\n",
    "print(grouped_df)\n"
   ]
  },
  {
   "cell_type": "code",
   "execution_count": 10,
   "metadata": {},
   "outputs": [
    {
     "name": "stdout",
     "output_type": "stream",
     "text": [
      "     LocationID    Borough                Zone service_zone\n",
      "264         265        NaN      Outside of NYC          NaN\n",
      "263         264    Unknown                 NaN          NaN\n",
      "262         263  Manhattan      Yorkville West  Yellow Zone\n",
      "261         262  Manhattan      Yorkville East  Yellow Zone\n",
      "260         261  Manhattan  World Trade Center  Yellow Zone\n"
     ]
    }
   ],
   "source": [
    "# Sort by LocationID in descending order\n",
    "sorted_df = df.sort_values(by='LocationID', ascending=False)\n",
    "print(sorted_df.head())\n"
   ]
  },
  {
   "cell_type": "code",
   "execution_count": 11,
   "metadata": {},
   "outputs": [
    {
     "name": "stdout",
     "output_type": "stream",
     "text": [
      "Empty DataFrame\n",
      "Columns: [LocationID, Borough, Zone, service_zone]\n",
      "Index: []\n"
     ]
    }
   ],
   "source": [
    "# Check for duplicate LocationIDs\n",
    "duplicates = df[df.duplicated(subset='LocationID')]\n",
    "print(duplicates)\n"
   ]
  },
  {
   "cell_type": "code",
   "execution_count": 12,
   "metadata": {},
   "outputs": [
    {
     "name": "stdout",
     "output_type": "stream",
     "text": [
      "['Newark Airport' 'Jamaica Bay' 'Allerton/Pelham Gardens' 'Alphabet City'\n",
      " 'Arden Heights' 'Arrochar/Fort Wadsworth' 'Astoria' 'Astoria Park'\n",
      " 'Auburndale' 'Baisley Park' 'Bath Beach' 'Battery Park'\n",
      " 'Battery Park City' 'Bay Ridge' 'Bay Terrace/Fort Totten' 'Bayside'\n",
      " 'Bedford' 'Bedford Park' 'Bellerose' 'Belmont' 'Bensonhurst East'\n",
      " 'Bensonhurst West' 'Bloomfield/Emerson Hill' 'Bloomingdale' 'Boerum Hill'\n",
      " 'Borough Park' 'Breezy Point/Fort Tilden/Riis Beach'\n",
      " 'Briarwood/Jamaica Hills' 'Brighton Beach' 'Broad Channel' 'Bronx Park'\n",
      " 'Bronxdale' 'Brooklyn Heights' 'Brooklyn Navy Yard' 'Brownsville'\n",
      " 'Bushwick North' 'Bushwick South' 'Cambria Heights' 'Canarsie'\n",
      " 'Carroll Gardens' 'Central Harlem' 'Central Harlem North' 'Central Park'\n",
      " 'Charleston/Tottenville' 'Chinatown' 'City Island' 'Claremont/Bathgate'\n",
      " 'Clinton East' 'Clinton Hill' 'Clinton West' 'Co-Op City' 'Cobble Hill'\n",
      " 'College Point' 'Columbia Street' 'Coney Island' 'Corona' 'Country Club'\n",
      " 'Crotona Park' 'Crotona Park East' 'Crown Heights North'\n",
      " 'Crown Heights South' 'Cypress Hills' 'Douglaston'\n",
      " 'Downtown Brooklyn/MetroTech' 'DUMBO/Vinegar Hill' 'Dyker Heights'\n",
      " 'East Chelsea' 'East Concourse/Concourse Village' 'East Elmhurst'\n",
      " 'East Flatbush/Farragut' 'East Flatbush/Remsen Village' 'East Flushing'\n",
      " 'East Harlem North' 'East Harlem South' 'East New York'\n",
      " 'East New York/Pennsylvania Avenue' 'East Tremont' 'East Village'\n",
      " 'East Williamsburg' 'Eastchester' 'Elmhurst' 'Elmhurst/Maspeth'\n",
      " \"Eltingville/Annadale/Prince's Bay\" 'Erasmus' 'Far Rockaway'\n",
      " 'Financial District North' 'Financial District South'\n",
      " 'Flatbush/Ditmas Park' 'Flatiron' 'Flatlands' 'Flushing'\n",
      " 'Flushing Meadows-Corona Park' 'Fordham South' 'Forest Hills'\n",
      " 'Forest Park/Highland Park' 'Fort Greene' 'Fresh Meadows'\n",
      " 'Freshkills Park' 'Garment District' 'Glen Oaks' 'Glendale'\n",
      " \"Governor's Island/Ellis Island/Liberty Island\" 'Gowanus' 'Gramercy'\n",
      " 'Gravesend' 'Great Kills' 'Great Kills Park' 'Green-Wood Cemetery'\n",
      " 'Greenpoint' 'Greenwich Village North' 'Greenwich Village South'\n",
      " 'Grymes Hill/Clifton' 'Hamilton Heights' 'Hammels/Arverne'\n",
      " 'Heartland Village/Todt Hill' 'Highbridge' 'Highbridge Park'\n",
      " 'Hillcrest/Pomonok' 'Hollis' 'Homecrest' 'Howard Beach' 'Hudson Sq'\n",
      " 'Hunts Point' 'Inwood' 'Inwood Hill Park' 'Jackson Heights' 'Jamaica'\n",
      " 'Jamaica Estates' 'JFK Airport' 'Kensington' 'Kew Gardens'\n",
      " 'Kew Gardens Hills' 'Kingsbridge Heights' 'Kips Bay' 'LaGuardia Airport'\n",
      " 'Laurelton' 'Lenox Hill East' 'Lenox Hill West' 'Lincoln Square East'\n",
      " 'Lincoln Square West' 'Little Italy/NoLiTa'\n",
      " 'Long Island City/Hunters Point' 'Long Island City/Queens Plaza'\n",
      " 'Longwood' 'Lower East Side' 'Madison' 'Manhattan Beach'\n",
      " 'Manhattan Valley' 'Manhattanville' 'Marble Hill'\n",
      " 'Marine Park/Floyd Bennett Field' 'Marine Park/Mill Basin'\n",
      " 'Mariners Harbor' 'Maspeth' 'Meatpacking/West Village West'\n",
      " 'Melrose South' 'Middle Village' 'Midtown Center' 'Midtown East'\n",
      " 'Midtown North' 'Midtown South' 'Midwood' 'Morningside Heights'\n",
      " 'Morrisania/Melrose' 'Mott Haven/Port Morris' 'Mount Hope' 'Murray Hill'\n",
      " 'Murray Hill-Queens' 'New Dorp/Midland Beach' 'North Corona' 'Norwood'\n",
      " 'Oakland Gardens' 'Oakwood' 'Ocean Hill' 'Ocean Parkway South'\n",
      " 'Old Astoria' 'Ozone Park' 'Park Slope' 'Parkchester' 'Pelham Bay'\n",
      " 'Pelham Bay Park' 'Pelham Parkway' 'Penn Station/Madison Sq West'\n",
      " 'Port Richmond' 'Prospect-Lefferts Gardens' 'Prospect Heights'\n",
      " 'Prospect Park' 'Queens Village' 'Queensboro Hill'\n",
      " 'Queensbridge/Ravenswood' 'Randalls Island' 'Red Hook' 'Rego Park'\n",
      " 'Richmond Hill' 'Ridgewood' 'Rikers Island'\n",
      " 'Riverdale/North Riverdale/Fieldston' 'Rockaway Park' 'Roosevelt Island'\n",
      " 'Rosedale' 'Rossville/Woodrow' 'Saint Albans' 'Saint George/New Brighton'\n",
      " 'Saint Michaels Cemetery/Woodside' 'Schuylerville/Edgewater Park'\n",
      " 'Seaport' 'Sheepshead Bay' 'SoHo' 'Soundview/Bruckner'\n",
      " 'Soundview/Castle Hill' 'South Beach/Dongan Hills' 'South Jamaica'\n",
      " 'South Ozone Park' 'South Williamsburg' 'Springfield Gardens North'\n",
      " 'Springfield Gardens South' 'Spuyten Duyvil/Kingsbridge' 'Stapleton'\n",
      " 'Starrett City' 'Steinway' 'Stuy Town/Peter Cooper Village'\n",
      " 'Stuyvesant Heights' 'Sunnyside' 'Sunset Park East' 'Sunset Park West'\n",
      " 'Sutton Place/Turtle Bay North' 'Times Sq/Theatre District'\n",
      " 'TriBeCa/Civic Center' 'Two Bridges/Seward Park' 'UN/Turtle Bay South'\n",
      " 'Union Sq' 'University Heights/Morris Heights' 'Upper East Side North'\n",
      " 'Upper East Side South' 'Upper West Side North' 'Upper West Side South'\n",
      " 'Van Cortlandt Park' 'Van Cortlandt Village' 'Van Nest/Morris Park'\n",
      " 'Washington Heights North' 'Washington Heights South' 'West Brighton'\n",
      " 'West Chelsea/Hudson Yards' 'West Concourse' 'West Farms/Bronx River'\n",
      " 'West Village' 'Westchester Village/Unionport' 'Westerleigh' 'Whitestone'\n",
      " 'Willets Point' 'Williamsbridge/Olinville' 'Williamsburg (North Side)'\n",
      " 'Williamsburg (South Side)' 'Windsor Terrace' 'Woodhaven'\n",
      " 'Woodlawn/Wakefield' 'Woodside' 'World Trade Center' 'Yorkville East'\n",
      " 'Yorkville West' nan 'Outside of NYC']\n"
     ]
    }
   ],
   "source": [
    "# Get unique values in the 'Zone' column\n",
    "print(df['Zone'].unique())\n"
   ]
  },
  {
   "cell_type": "code",
   "execution_count": 13,
   "metadata": {},
   "outputs": [
    {
     "data": {
      "image/png": "[encoded data removed]",
      "text/plain": [
       "<Figure size 640x480 with 1 Axes>"
      ]
     },
     "metadata": {},
     "output_type": "display_data"
    }
   ],
   "source": [
    "import matplotlib.pyplot as plt\n",
    "\n",
    "# Plot histogram of LocationID\n",
    "df['LocationID'].hist(bins=20)\n",
    "plt.title('LocationID Distribution')\n",
    "plt.xlabel('LocationID')\n",
    "plt.ylabel('Frequency')\n",
    "plt.show()\n"
   ]
  },
  {
   "cell_type": "code",
   "execution_count": 14,
   "metadata": {},
   "outputs": [
    {
     "name": "stdout",
     "output_type": "stream",
     "text": [
      "Borough\n",
      "Bronx            43\n",
      "Brooklyn         61\n",
      "EWR               1\n",
      "Manhattan        67\n",
      "Queens           68\n",
      "Staten Island    20\n",
      "Unknown           0\n",
      "Name: Zone, dtype: int64\n"
     ]
    }
   ],
   "source": [
    "# Count unique zones for each Borough\n",
    "unique_zones = df.groupby('Borough')['Zone'].nunique()\n",
    "print(unique_zones)\n"
   ]
  },
  {
   "cell_type": "code",
   "execution_count": null,
   "metadata": {},
   "outputs": [],
   "source": []
  }
 ],
 "metadata": {
  "kernelspec": {
   "display_name": "Python 3",
   "language": "python",
   "name": "python3"
  },
  "language_info": {
   "codemirror_mode": {
    "name": "ipython",
    "version": 3
   },
   "file_extension": ".py",
   "mimetype": "text/x-python",
   "name": "python",
   "nbconvert_exporter": "python",
   "pygments_lexer": "ipython3",
   "version": "3.11.4"
  }
 },
 "nbformat": 4,
 "nbformat_minor": 2
}

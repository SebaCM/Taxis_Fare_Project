{
 "cells": [
  {
   "cell_type": "code",
   "execution_count": 1,
   "metadata": {},
   "outputs": [
    {
     "name": "stderr",
     "output_type": "stream",
     "text": [
      "C:\\Users\\Anthony Zambrano\\AppData\\Local\\Temp\\ipykernel_8288\\1073430283.py:3: DtypeWarning: Columns (3,5,12,17,18) have mixed types. Specify dtype option on import or set low_memory=False.\n",
      "  df = pd.read_csv(\"C:/Users/Anthony Zambrano/Downloads/yellow_tripdata_2022-05 (1).csv\")\n"
     ]
    },
    {
     "name": "stdout",
     "output_type": "stream",
     "text": [
      "   VendorID        tpep_pickup_datetime       tpep_dropoff_datetime  \\\n",
      "0         1  2022-05-01 00:00:36.000000  2022-05-01 00:19:18.000000   \n",
      "1         1  2022-05-01 00:27:44.000000  2022-05-01 00:41:33.000000   \n",
      "2         1  2022-05-01 00:59:00.000000  2022-05-01 01:14:22.000000   \n",
      "3         1  2022-05-01 00:48:18.000000  2022-05-01 01:28:02.000000   \n",
      "4         1  2022-05-01 00:28:26.000000  2022-05-01 00:37:49.000000   \n",
      "\n",
      "  passenger_count  trip_distance RatecodeID store_and_fwd_flag  PULocationID  \\\n",
      "0               1            4.1          1                  N           246   \n",
      "1               1            2.3          1                  N           238   \n",
      "2               1            4.2          1                  N           163   \n",
      "3               1            0.0          1                  N            79   \n",
      "4               1            1.6          1                  N           238   \n",
      "\n",
      "   DOLocationID  payment_type  fare_amount  extra mta_tax  tip_amount  \\\n",
      "0           151             2         17.0    3.0     0.5        0.00   \n",
      "1            74             2         11.0    3.0     0.5        0.00   \n",
      "2           260             2         15.5    3.0     0.5        0.00   \n",
      "3           182             1         41.2    0.0     0.5        0.00   \n",
      "4            75             1          7.5    3.0     0.5        2.25   \n",
      "\n",
      "   tolls_amount  improvement_surcharge  total_amount congestion_surcharge  \\\n",
      "0           0.0                    0.3         20.80                  2.5   \n",
      "1           0.0                    0.3         14.80                  2.5   \n",
      "2           0.0                    0.3         19.30                  2.5   \n",
      "3           0.0                    0.3         42.00                  0.0   \n",
      "4           0.0                    0.3         13.55                  2.5   \n",
      "\n",
      "  airport_fee  \n",
      "0         0.0  \n",
      "1         0.0  \n",
      "2         0.0  \n",
      "3         0.0  \n",
      "4         0.0  \n"
     ]
    }
   ],
   "source": [
    "import pandas as pd\n",
    "\n",
    "df = pd.read_csv(\"C:/Users/Anthony Zambrano/Downloads/yellow_tripdata_2022-05 (1).csv\")\n",
    "\n",
    "print(df.head())\n",
    "\n"
   ]
  },
  {
   "cell_type": "code",
   "execution_count": 2,
   "metadata": {},
   "outputs": [
    {
     "name": "stdout",
     "output_type": "stream",
     "text": [
      "VendorID: Taxi Vendor ID\n",
      "0    1\n",
      "1    1\n",
      "2    1\n",
      "3    1\n",
      "4    1\n",
      "Name: VendorID, dtype: int64\n"
     ]
    }
   ],
   "source": [
    "# Show details for each column with a brief description in the comments\n",
    "# VendorID: The ID of the taxi vendor\n",
    "print(\"VendorID: Taxi Vendor ID\")\n",
    "print(df['VendorID'].head())\n"
   ]
  },
  {
   "cell_type": "code",
   "execution_count": 3,
   "metadata": {},
   "outputs": [
    {
     "name": "stdout",
     "output_type": "stream",
     "text": [
      "\n",
      "tpep_pickup_datetime: Pickup timestamp\n",
      "0    2022-05-01 00:00:36.000000\n",
      "1    2022-05-01 00:27:44.000000\n",
      "2    2022-05-01 00:59:00.000000\n",
      "3    2022-05-01 00:48:18.000000\n",
      "4    2022-05-01 00:28:26.000000\n",
      "Name: tpep_pickup_datetime, dtype: object\n"
     ]
    }
   ],
   "source": [
    "# tpep_pickup_datetime: The timestamp of when the ride started\n",
    "print(\"\\ntpep_pickup_datetime: Pickup timestamp\")\n",
    "print(df['tpep_pickup_datetime'].head())"
   ]
  },
  {
   "cell_type": "code",
   "execution_count": 4,
   "metadata": {},
   "outputs": [
    {
     "name": "stdout",
     "output_type": "stream",
     "text": [
      "\n",
      "tpep_dropoff_datetime: Dropoff timestamp\n",
      "0    2022-05-01 00:19:18.000000\n",
      "1    2022-05-01 00:41:33.000000\n",
      "2    2022-05-01 01:14:22.000000\n",
      "3    2022-05-01 01:28:02.000000\n",
      "4    2022-05-01 00:37:49.000000\n",
      "Name: tpep_dropoff_datetime, dtype: object\n"
     ]
    }
   ],
   "source": [
    "# tpep_dropoff_datetime: The timestamp of when the ride ended\n",
    "print(\"\\ntpep_dropoff_datetime: Dropoff timestamp\")\n",
    "print(df['tpep_dropoff_datetime'].head())"
   ]
  },
  {
   "cell_type": "code",
   "execution_count": 5,
   "metadata": {},
   "outputs": [
    {
     "name": "stdout",
     "output_type": "stream",
     "text": [
      "\n",
      "passenger_count: Number of passengers\n",
      "0    1\n",
      "1    1\n",
      "2    1\n",
      "3    1\n",
      "4    1\n",
      "Name: passenger_count, dtype: object\n"
     ]
    }
   ],
   "source": [
    "# passenger_count: Number of passengers in the ride\n",
    "print(\"\\npassenger_count: Number of passengers\")\n",
    "print(df['passenger_count'].head())"
   ]
  },
  {
   "cell_type": "code",
   "execution_count": 6,
   "metadata": {},
   "outputs": [
    {
     "name": "stdout",
     "output_type": "stream",
     "text": [
      "\n",
      "RatecodeID: Fare pricing model\n",
      "0    1\n",
      "1    1\n",
      "2    1\n",
      "3    1\n",
      "4    1\n",
      "Name: RatecodeID, dtype: object\n"
     ]
    }
   ],
   "source": [
    "# RatecodeID: The rate code that indicates the pricing model (e.g., standard fare, fixed fare)\n",
    "print(\"\\nRatecodeID: Fare pricing model\")\n",
    "print(df['RatecodeID'].head())"
   ]
  },
  {
   "cell_type": "code",
   "execution_count": 7,
   "metadata": {},
   "outputs": [
    {
     "name": "stdout",
     "output_type": "stream",
     "text": [
      "\n",
      "PULocationID: Pickup location zone ID\n",
      "0    246\n",
      "1    238\n",
      "2    163\n",
      "3     79\n",
      "4    238\n",
      "Name: PULocationID, dtype: int64\n"
     ]
    }
   ],
   "source": [
    "# PULocationID: The pickup location ID (which zone the passenger was picked up from)\n",
    "print(\"\\nPULocationID: Pickup location zone ID\")\n",
    "print(df['PULocationID'].head())"
   ]
  },
  {
   "cell_type": "code",
   "execution_count": 8,
   "metadata": {},
   "outputs": [
    {
     "name": "stdout",
     "output_type": "stream",
     "text": [
      "\n",
      "DOLocationID: Dropoff location zone ID\n",
      "0    151\n",
      "1     74\n",
      "2    260\n",
      "3    182\n",
      "4     75\n",
      "Name: DOLocationID, dtype: int64\n"
     ]
    }
   ],
   "source": [
    "# DOLocationID: The dropoff location ID (which zone the passenger was dropped off in)\n",
    "print(\"\\nDOLocationID: Dropoff location zone ID\")\n",
    "print(df['DOLocationID'].head())"
   ]
  },
  {
   "cell_type": "code",
   "execution_count": 9,
   "metadata": {},
   "outputs": [
    {
     "name": "stdout",
     "output_type": "stream",
     "text": [
      "\n",
      "payment_type: Method of payment used\n",
      "0    2\n",
      "1    2\n",
      "2    2\n",
      "3    1\n",
      "4    1\n",
      "Name: payment_type, dtype: int64\n"
     ]
    }
   ],
   "source": [
    "# payment_type: The method of payment used by the passenger (e.g., cash, credit card)\n",
    "print(\"\\npayment_type: Method of payment used\")\n",
    "print(df['payment_type'].head())"
   ]
  },
  {
   "cell_type": "code",
   "execution_count": 10,
   "metadata": {},
   "outputs": [
    {
     "name": "stdout",
     "output_type": "stream",
     "text": [
      "\n",
      "fare_amount: Base fare for the ride\n",
      "0    17.0\n",
      "1    11.0\n",
      "2    15.5\n",
      "3    41.2\n",
      "4     7.5\n",
      "Name: fare_amount, dtype: float64\n"
     ]
    }
   ],
   "source": [
    "# fare_amount: The base fare of the ride (before any additional charges)\n",
    "print(\"\\nfare_amount: Base fare for the ride\")\n",
    "print(df['fare_amount'].head())\n"
   ]
  },
  {
   "cell_type": "code",
   "execution_count": 11,
   "metadata": {},
   "outputs": [
    {
     "name": "stdout",
     "output_type": "stream",
     "text": [
      "\n",
      "extra: Additional charges (e.g., time-based, etc.)\n",
      "0    3.0\n",
      "1    3.0\n",
      "2    3.0\n",
      "3    0.0\n",
      "4    3.0\n",
      "Name: extra, dtype: float64\n"
     ]
    }
   ],
   "source": [
    "# extra: Additional charges applied to the fare\n",
    "print(\"\\nextra: Additional charges (e.g., time-based, etc.)\")\n",
    "print(df['extra'].head())"
   ]
  },
  {
   "cell_type": "code",
   "execution_count": 12,
   "metadata": {},
   "outputs": [
    {
     "name": "stdout",
     "output_type": "stream",
     "text": [
      "\n",
      "mta_tax: MTA tax applied\n",
      "0    0.5\n",
      "1    0.5\n",
      "2    0.5\n",
      "3    0.5\n",
      "4    0.5\n",
      "Name: mta_tax, dtype: object\n"
     ]
    }
   ],
   "source": [
    "# mta_tax: The MTA (Metropolitan Transportation Authority) tax applied to the ride\n",
    "print(\"\\nmta_tax: MTA tax applied\")\n",
    "print(df['mta_tax'].head())"
   ]
  },
  {
   "cell_type": "code",
   "execution_count": 13,
   "metadata": {},
   "outputs": [
    {
     "name": "stdout",
     "output_type": "stream",
     "text": [
      "\n",
      "tolls_amount: Tolls charged during the ride\n",
      "0    0.0\n",
      "1    0.0\n",
      "2    0.0\n",
      "3    0.0\n",
      "4    0.0\n",
      "Name: tolls_amount, dtype: float64\n"
     ]
    }
   ],
   "source": [
    "# tolls_amount: The amount charged for any tolls during the ride\n",
    "print(\"\\ntolls_amount: Tolls charged during the ride\")\n",
    "print(df['tolls_amount'].head())"
   ]
  },
  {
   "cell_type": "code",
   "execution_count": 14,
   "metadata": {},
   "outputs": [
    {
     "name": "stdout",
     "output_type": "stream",
     "text": [
      "\n",
      "improvement_surcharge: Improvement surcharge applied\n",
      "0    0.3\n",
      "1    0.3\n",
      "2    0.3\n",
      "3    0.3\n",
      "4    0.3\n",
      "Name: improvement_surcharge, dtype: float64\n"
     ]
    }
   ],
   "source": [
    "# improvement_surcharge: A surcharge added to the fare for improvements\n",
    "print(\"\\nimprovement_surcharge: Improvement surcharge applied\")\n",
    "print(df['improvement_surcharge'].head())\n"
   ]
  },
  {
   "cell_type": "code",
   "execution_count": 15,
   "metadata": {},
   "outputs": [
    {
     "name": "stdout",
     "output_type": "stream",
     "text": [
      "\n",
      "total_amount: Total fare charged for the ride\n",
      "0    20.80\n",
      "1    14.80\n",
      "2    19.30\n",
      "3    42.00\n",
      "4    13.55\n",
      "Name: total_amount, dtype: float64\n"
     ]
    }
   ],
   "source": [
    "# total_amount: The total amount charged for the ride (base fare + extras + tips, etc.)\n",
    "print(\"\\ntotal_amount: Total fare charged for the ride\")\n",
    "print(df['total_amount'].head())\n"
   ]
  },
  {
   "cell_type": "code",
   "execution_count": 16,
   "metadata": {},
   "outputs": [
    {
     "name": "stdout",
     "output_type": "stream",
     "text": [
      "\n",
      "congestion_surcharge: Congestion surcharge applied\n",
      "0    2.5\n",
      "1    2.5\n",
      "2    2.5\n",
      "3    0.0\n",
      "4    2.5\n",
      "Name: congestion_surcharge, dtype: object\n"
     ]
    }
   ],
   "source": [
    "# congestion_surcharge: Additional charge for congestion or traffic-based areas\n",
    "print(\"\\ncongestion_surcharge: Congestion surcharge applied\")\n",
    "print(df['congestion_surcharge'].head())"
   ]
  },
  {
   "cell_type": "code",
   "execution_count": 17,
   "metadata": {},
   "outputs": [
    {
     "name": "stdout",
     "output_type": "stream",
     "text": [
      "\n",
      "airport_fee: Additional airport fee\n",
      "0    0.0\n",
      "1    0.0\n",
      "2    0.0\n",
      "3    0.0\n",
      "4    0.0\n",
      "Name: airport_fee, dtype: object\n"
     ]
    }
   ],
   "source": [
    "# airport_fee: Additional fee for rides to/from the airport\n",
    "print(\"\\nairport_fee: Additional airport fee\")\n",
    "print(df['airport_fee'].head())"
   ]
  },
  {
   "cell_type": "code",
   "execution_count": null,
   "metadata": {},
   "outputs": [],
   "source": [
    "# VendorID: ID del proveedor del taxi (Taxi Vendor ID: Identificador del proveedor de taxi, que es siempre 1 en los primeros registros.)\n",
    "# Valores: 1\n",
    "\n",
    "# tpep_pickup_datetime: Fecha y hora de recogida (Pickup timestamp: Fecha y hora en la que se recogió al pasajero en cada viaje.)\n",
    "# Valores:\n",
    "# 2022-05-01 00:00:36\n",
    "# 2022-05-01 00:27:44\n",
    "# 2022-05-01 00:59:00\n",
    "\n",
    "# tpep_dropoff_datetime: Fecha y hora de entrega (Dropoff timestamp: Fecha y hora en la que se entregó al pasajero en cada viaje.)\n",
    "# Valores:\n",
    "# 2022-05-01 00:19:18\n",
    "# 2022-05-01 00:41:33\n",
    "# 2022-05-01 01:14:22\n",
    "\n",
    "# passenger_count: Número de pasajeros (Number of passengers: Cantidad de pasajeros en cada viaje, siempre es 1 en los primeros registros.)\n",
    "# Valores:\n",
    "# 1\n",
    "\n",
    "# RatecodeID: Tipo de tarifa aplicada (Fare pricing model: Código de tarifa para el tipo de cobro aplicado al viaje, el valor es 1.)\n",
    "# Valores:\n",
    "# 1\n",
    "\n",
    "# PULocationID: ID de la zona de recogida (Pickup location zone ID: Código de zona donde se realizó la recogida del pasajero.)\n",
    "# Valores:\n",
    "# 246\n",
    "# 238\n",
    "# 163\n",
    "\n",
    "# DOLocationID: ID de la zona de entrega (Dropoff location zone ID: Código de zona donde se entregó al pasajero.)\n",
    "# Valores:\n",
    "# 151\n",
    "# 74\n",
    "# 260\n",
    "\n",
    "# payment_type: Método de pago utilizado (Method of payment used: Código que representa el método de pago, 1 para efectivo y 2 para tarjeta.)\n",
    "# Valores:\n",
    "# 2\n",
    "# 1\n",
    "\n",
    "# fare_amount: Monto base de la tarifa (Base fare for the ride: Precio base de la tarifa antes de cargos adicionales.)\n",
    "# Valores:\n",
    "# 17.0\n",
    "# 11.0\n",
    "# 15.5\n",
    "\n",
    "# extra: Cargos adicionales (ej., basados en tiempo) (Additional charges: Cargos adicionales aplicados por concepto de tiempo o situaciones similares.)\n",
    "# Valores:\n",
    "# 3.0\n",
    "# 0.0\n",
    "\n",
    "# mta_tax: Impuesto MTA aplicado (MTA tax applied: Impuesto aplicado por la MTA (Autoridad Metropolitana de Transporte).)\n",
    "# Valores:\n",
    "# 0.5\n",
    "\n",
    "# tolls_amount: Cargos por peaje (Tolls charged: Monto cobrado por peajes durante el viaje.)\n",
    "# Valores:\n",
    "# 0.0\n",
    "\n",
    "# improvement_surcharge: Cargos por mejora (Improvement surcharge: Cargo adicional por mejoras en el servicio.)\n",
    "# Valores:\n",
    "# 0.3\n",
    "\n",
    "# total_amount: Monto total cobrado por el viaje (Total fare charged for the ride: El monto total que se cobra por el viaje, incluyendo la tarifa base y cargos adicionales.)\n",
    "# Valores:\n",
    "# 20.80\n",
    "# 14.80\n",
    "# 19.30\n",
    "\n",
    "# congestion_surcharge: Cargo por congestión aplicado (Congestion surcharge: Cargo adicional aplicado por congestión o tráfico.)\n",
    "# Valores:\n",
    "# 2.5\n",
    "# 0.0\n",
    "\n",
    "# airport_fee: Cargo adicional por aeropuerto (Airport fee: Cargo adicional cuando el viaje tiene origen o destino en el aeropuerto.)\n",
    "# Valores:\n",
    "# 0.0\n",
    "\n",
    "# Resumen en español:\n",
    "# Este conjunto de datos proviene de un sistema de taxis en Nueva York, donde cada registro describe un viaje. Se incluye información clave como el proveedor del taxi, la fecha y hora de recogida y entrega, el número de pasajeros, la tarifa base, los cargos adicionales, el tipo de pago y las zonas de recogida y entrega. Los datos también incluyen impuestos y cargos específicos, como el impuesto MTA y el cargo por congestión. Además, hay cargos aplicados por el uso de peajes o el aeropuerto.\n",
    "\n",
    "# Summary in English:\n",
    "# This dataset comes from a New York taxi system, where each entry describes a trip. It includes key information such as the taxi vendor, pickup and dropoff timestamps, passenger count, base fare, additional charges, payment method, and pickup/dropoff zones. The data also includes specific taxes and fees, such as the MTA tax and congestion surcharge. Additionally, there are charges for tolls or airport usage.\n"
   ]
  }
 ],
 "metadata": {
  "kernelspec": {
   "display_name": "Python 3",
   "language": "python",
   "name": "python3"
  },
  "language_info": {
   "codemirror_mode": {
    "name": "ipython",
    "version": 3
   },
   "file_extension": ".py",
   "mimetype": "text/x-python",
   "name": "python",
   "nbconvert_exporter": "python",
   "pygments_lexer": "ipython3",
   "version": "3.11.4"
  }
 },
 "nbformat": 4,
 "nbformat_minor": 2
}
